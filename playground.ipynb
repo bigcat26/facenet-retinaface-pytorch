{
 "cells": [
  {
   "cell_type": "markdown",
   "metadata": {},
   "source": [
    "### Image对象转cv2(np.adarray)\n",
    "\n",
    "```python\n",
    "img = Image.open(path)\n",
    "img_array = np.array(img)\n",
    "```\n",
    "\n",
    "### cv2(np.adarray)转Image对象\n",
    "\n",
    "```python\n",
    "img = cv2.imread(path)\n",
    "img_Image = Image.fromarray(np.uint8(img))\n",
    "```\n"
   ]
  },
  {
   "cell_type": "code",
   "execution_count": null,
   "metadata": {},
   "outputs": [],
   "source": [
    "import cv2\n",
    "import matplotlib.pyplot as plt\n",
    "\n",
    "# cv2读取默认是BGR，需要转换才能正确显示\n",
    "img = cv2.imread(\"img/obama.jpg\")\n",
    "img = cv2.cvtColor(img, cv2.COLOR_BGR2RGB)\n",
    "\n",
    "plt.imshow(img)\n"
   ]
  },
  {
   "cell_type": "code",
   "execution_count": null,
   "metadata": {},
   "outputs": [],
   "source": [
    "import numpy as np\n",
    "from PIL import Image\n",
    "\n",
    "fimg = np.array(Image.open(\"img/obama.jpg\"), np.float32)\n",
    "img = fimg.astype(np.uint8)\n",
    "print(fimg.dtype, img.dtype)\n",
    "\n",
    "plt.imshow(img)\n"
   ]
  },
  {
   "cell_type": "markdown",
   "metadata": {},
   "source": [
    "imshow内部的参数类型可以分为两种\n",
    "\n",
    "- 当输入矩阵是uint8类型的时候，此时imshow显示图像的时候，会认为输入矩阵的范围在`0-255`之间\n",
    "- 当输入矩阵是double类型的时候，那么imshow会认为输入矩阵的范围在`0-1`\n",
    "\n",
    "因此, 需要使用astype将float32转换为uint8，否则会出现一片白色([python中opencv imshow函数显示一片白色原因](https://blog.csdn.net/lyl771857509/article/details/80143134))。如果使用int8，会出现另一个问题：\n",
    "\n",
    "```\n",
    "resize.cpp:3787: error: (-215:Assertion failed) func != 0 in function 'cv::hal::resize'\n",
    "```"
   ]
  },
  {
   "cell_type": "code",
   "execution_count": null,
   "metadata": {},
   "outputs": [],
   "source": [
    "from utils import utils\n",
    "\n",
    "fimg2 = utils.letterbox_image(img, [600, 800])\n",
    "img2 = fimg2.astype(np.uint8)\n",
    "plt.imshow(img2)"
   ]
  },
  {
   "cell_type": "code",
   "execution_count": null,
   "metadata": {},
   "outputs": [],
   "source": [
    "img3 = utils.preprocess_input(fimg)\n",
    "plt.imshow(img3)"
   ]
  },
  {
   "cell_type": "code",
   "execution_count": null,
   "metadata": {},
   "outputs": [],
   "source": [
    "import cv2\n",
    "import numpy as np\n",
    "import torch\n",
    "import matplotlib.pyplot as plt\n",
    "from PIL import Image\n",
    "from retinaface import Retinaface\n",
    "from utils import utils\n",
    "\n",
    "retinaface = Retinaface(cuda=torch.cuda.is_available())\n",
    "\n",
    "img = np.array(Image.open(\"img/akb48.jpg\"), np.float32)\n",
    "result = retinaface.face_detect(img)\n",
    "print(f'faces detected: {result.shape[0]}')\n",
    "crop_imgs = []\n",
    "for i in range(result.shape[0]):\n",
    "    # print(result[i][0:2], result[i][2:4])\n",
    "    # print(result[i])\n",
    "    \n",
    "    b = np.array(result[i], np.int32)\n",
    "    cx = b[0]\n",
    "    cy = b[1] - 10\n",
    "    conf = str(result[i][4])\n",
    "    cropped = utils.crop_npimage(img, b)\n",
    "    crop_imgs.append(cropped)\n",
    "    cv2.rectangle(img, (b[0], b[1]), (b[2], b[3]), (0, 0, 255), 2)\n",
    "    cv2.putText(img, conf, (cx, cy), cv2.FONT_HERSHEY_DUPLEX, 0.5, (255, 255, 255))\n",
    "    cv2.circle(img, (b[5], b[6]), 1, (0, 0, 255), 4)\n",
    "    cv2.circle(img, (b[7], b[8]), 1, (0, 255, 255), 4)\n",
    "    cv2.circle(img, (b[9], b[10]), 1, (255, 0, 255), 4)\n",
    "    cv2.circle(img, (b[11], b[12]), 1, (0, 255, 0), 4)\n",
    "    cv2.circle(img, (b[13], b[14]), 1, (255, 0, 0), 4)\n",
    "\n",
    "img = img.astype(np.uint8)\n",
    "\n",
    "nrow = 4\n",
    "ncol = 8\n",
    "fig = plt.figure(constrained_layout=True, figsize=(20, 20))\n",
    "subfig = fig.subfigures(2, 1)\n",
    "pl1 = subfig[0].subplots(1, 1)\n",
    "pl1.imshow(img)\n",
    "\n",
    "axs = subfig[1].subplots(nrow, ncol)\n",
    "# fig = plt.figure(figsize=[10.0, 10.0])\n",
    "# fig.add_subplot(i,2,1)\n",
    "# plt.imshow(img)\n",
    "\n",
    "for i, im in enumerate(crop_imgs):\n",
    "    if (i < nrow * ncol):\n",
    "        axs[i // ncol, i % ncol].imshow(im.astype(np.uint8))\n",
    "    # plt.imshow(im.astype(np.uint8))\n",
    "\n",
    "plt.show()"
   ]
  }
 ],
 "metadata": {
  "kernelspec": {
   "display_name": "Python 3.9.13",
   "language": "python",
   "name": "python3"
  },
  "language_info": {
   "codemirror_mode": {
    "name": "ipython",
    "version": 3
   },
   "file_extension": ".py",
   "mimetype": "text/x-python",
   "name": "python",
   "nbconvert_exporter": "python",
   "pygments_lexer": "ipython3",
   "version": "3.9.13"
  },
  "orig_nbformat": 4,
  "vscode": {
   "interpreter": {
    "hash": "3d1178110e66f6d3ed577e5aab9804e1f1db0412c2a8cbe984668a39a9414b45"
   }
  }
 },
 "nbformat": 4,
 "nbformat_minor": 2
}
