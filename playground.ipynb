{
 "cells": [
  {
   "cell_type": "markdown",
   "metadata": {},
   "source": [
    "### Image对象转cv2(np.adarray)\n",
    "\n",
    "```python\n",
    "img = Image.open(path)\n",
    "img_array = np.array(img)\n",
    "```\n",
    "\n",
    "### cv2(np.adarray)转Image对象\n",
    "\n",
    "```python\n",
    "img = cv2.imread(path)\n",
    "img_Image = Image.fromarray(np.uint8(img))\n",
    "```\n"
   ]
  },
  {
   "cell_type": "code",
   "execution_count": null,
   "metadata": {},
   "outputs": [],
   "source": [
    "import cv2\n",
    "import matplotlib.pyplot as plt\n",
    "\n",
    "# cv2读取默认是BGR，需要转换才能正确显示\n",
    "img = cv2.imread(\"img/obama.jpg\")\n",
    "img = cv2.cvtColor(img, cv2.COLOR_BGR2RGB)\n",
    "\n",
    "plt.imshow(img)\n"
   ]
  },
  {
   "cell_type": "code",
   "execution_count": null,
   "metadata": {},
   "outputs": [],
   "source": [
    "import numpy as np\n",
    "from PIL import Image\n",
    "\n",
    "fimg = np.array(Image.open(\"img/obama.jpg\"), np.float32)\n",
    "img = fimg.astype(np.uint8)\n",
    "print(fimg.dtype, img.dtype)\n",
    "\n",
    "plt.imshow(img)\n"
   ]
  },
  {
   "cell_type": "markdown",
   "metadata": {},
   "source": [
    "imshow内部的参数类型可以分为两种\n",
    "\n",
    "- 当输入矩阵是uint8类型的时候，此时imshow显示图像的时候，会认为输入矩阵的范围在`0-255`之间\n",
    "- 当输入矩阵是double类型的时候，那么imshow会认为输入矩阵的范围在`0-1`\n",
    "\n",
    "因此, 需要使用astype将float32转换为uint8，否则会出现一片白色([python中opencv imshow函数显示一片白色原因](https://blog.csdn.net/lyl771857509/article/details/80143134))。如果使用int8，会出现另一个问题：\n",
    "\n",
    "```\n",
    "resize.cpp:3787: error: (-215:Assertion failed) func != 0 in function 'cv::hal::resize'\n",
    "```"
   ]
  },
  {
   "cell_type": "code",
   "execution_count": null,
   "metadata": {},
   "outputs": [],
   "source": [
    "from utils import utils\n",
    "\n",
    "fimg2 = utils.letterbox_image(img, [600, 800])\n",
    "img2 = fimg2.astype(np.uint8)\n",
    "plt.imshow(img2)"
   ]
  },
  {
   "cell_type": "code",
   "execution_count": null,
   "metadata": {},
   "outputs": [],
   "source": [
    "img3 = utils.preprocess_input(fimg)\n",
    "plt.imshow(img3)"
   ]
  },
  {
   "cell_type": "code",
   "execution_count": null,
   "metadata": {},
   "outputs": [],
   "source": [
    "import cv2\n",
    "import numpy as np\n",
    "from PIL import Image\n",
    "import matplotlib.pyplot as plt\n",
    "from retinaface import Retinaface\n",
    "\n",
    "retinaface = Retinaface()\n",
    "\n",
    "img = np.array(Image.open(\"img/twins.jpg\"), np.float32)\n",
    "\n",
    "result = retinaface.face_detect(img)\n",
    "for i in range(result.shape[0]):\n",
    "    # print(result[i][0:2], result[i][2:4])\n",
    "    # print(result[i])\n",
    "    b = np.array(result[i], np.int32)\n",
    "    cx = b[0]\n",
    "    cy = b[1] - 10\n",
    "    conf = str(b[4])\n",
    "    cv2.rectangle(img, (b[0], b[1]), (b[2], b[3]), (0, 0, 255), 2)\n",
    "    cv2.putText(img, conf, (cx, cy), cv2.FONT_HERSHEY_DUPLEX, 0.5, (255, 255, 255))\n",
    "    cv2.circle(img, (b[5], b[6]), 1, (0, 0, 255), 4)\n",
    "    cv2.circle(img, (b[7], b[8]), 1, (0, 255, 255), 4)\n",
    "    cv2.circle(img, (b[9], b[10]), 1, (255, 0, 255), 4)\n",
    "    cv2.circle(img, (b[11], b[12]), 1, (0, 255, 0), 4)\n",
    "    cv2.circle(img, (b[13], b[14]), 1, (255, 0, 0), 4)\n",
    "    \n",
    "img = img.astype(np.uint8)\n",
    "plt.imshow(img)\n"
   ]
  }
 ],
 "metadata": {
  "kernelspec": {
   "display_name": "Python 3.9.13",
   "language": "python",
   "name": "python3"
  },
  "language_info": {
   "codemirror_mode": {
    "name": "ipython",
    "version": 3
   },
   "file_extension": ".py",
   "mimetype": "text/x-python",
   "name": "python",
   "nbconvert_exporter": "python",
   "pygments_lexer": "ipython3",
   "version": "3.9.13"
  },
  "orig_nbformat": 4,
  "vscode": {
   "interpreter": {
    "hash": "314e7e66cd9031e92379a9c9cc9c8adb3868eb4c27d3241780da09f7121c942a"
   }
  }
 },
 "nbformat": 4,
 "nbformat_minor": 2
}
