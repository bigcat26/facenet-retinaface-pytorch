{
 "cells": [
  {
   "cell_type": "markdown",
   "id": "251c9f1a",
   "metadata": {},
   "source": [
    "## 训练步骤\n",
    "\n",
    "本文使用如下格式进行训练。\n",
    "\n",
    "```text\n",
    "|-datasets\n",
    "    |-people0\n",
    "        |-123.jpg\n",
    "        |-234.jpg\n",
    "    |-people1\n",
    "        |-345.jpg\n",
    "        |-456.jpg\n",
    "    |-...\n",
    "```\n",
    "\n",
    "1. 下载好数据集，将训练用的CASIA-WebFaces数据集以及评估用的LFW数据集，解压后放在根目录。\n",
    "2. 在训练前利用txt_annotation.py文件生成对应的cls_train.txt。\n",
    "3. 利用train.py训练facenet模型，训练前，根据自己的需要选择backbone，model_path和backbone一定要对应。\n",
    "4. 运行train.py即可开始训练。"
   ]
  },
  {
   "cell_type": "code",
   "execution_count": null,
   "id": "98346063",
   "metadata": {},
   "outputs": [],
   "source": [
    "!python ./txt_annotation.py"
   ]
  },
  {
   "cell_type": "code",
   "execution_count": 2,
   "id": "329886be",
   "metadata": {},
   "outputs": [
    {
     "name": "stdout",
     "output_type": "stream",
     "text": [
      "Downloading http://vis-www.cs.umass.edu/lfw/lfw-deepfunneled.tgz to ./lfw\\lfw-py\\lfw-deepfunneled.tgz\n"
     ]
    },
    {
     "name": "stderr",
     "output_type": "stream",
     "text": [
      "100%|██████████| 108761145/108761145 [2:16:42<00:00, 13260.14it/s] \n"
     ]
    },
    {
     "name": "stdout",
     "output_type": "stream",
     "text": [
      "Extracting ./lfw\\lfw-py\\lfw-deepfunneled.tgz to ./lfw\\lfw-py\n",
      "Downloading http://vis-www.cs.umass.edu/lfw/people.txt to ./lfw\\lfw-py\\people.txt\n"
     ]
    },
    {
     "name": "stderr",
     "output_type": "stream",
     "text": [
      "100%|██████████| 94770/94770 [00:02<00:00, 40412.21it/s]\n"
     ]
    },
    {
     "name": "stdout",
     "output_type": "stream",
     "text": [
      "Downloading http://vis-www.cs.umass.edu/lfw/lfw-names.txt to ./lfw\\lfw-py\\lfw-names.txt\n"
     ]
    },
    {
     "name": "stderr",
     "output_type": "stream",
     "text": [
      "100%|██████████| 94727/94727 [00:01<00:00, 64661.41it/s]\n"
     ]
    }
   ],
   "source": [
    "from six.moves import urllib\n",
    "\n",
    "proxy = urllib.request.ProxyHandler({'http': '127.0.0.1:10809'})\n",
    "# construct a new opener using your proxy settings\n",
    "opener = urllib.request.build_opener(proxy)\n",
    "# install the openen on the module-level\n",
    "urllib.request.install_opener(opener)\n",
    "\n",
    "import torchvision\n",
    "\n",
    "\n",
    "imagenet_data = torchvision.datasets.LFWPeople(root='./lfw', image_set='deepfunneled', download=True)\n",
    "# data_loader = torch.utils.data.DataLoader(imagenet_data,\n",
    "#                                           batch_size=4,\n",
    "#                                           shuffle=True,\n",
    "#                                           num_workers=args.nThreads)"
   ]
  },
  {
   "cell_type": "code",
   "execution_count": 3,
   "id": "ebe9c06a",
   "metadata": {},
   "outputs": [
    {
     "name": "stdout",
     "output_type": "stream",
     "text": [
      "Downloading http://vis-www.cs.umass.edu/lfw/lfw-funneled.tgz to ./lfwpairs\\lfw-py\\lfw-funneled.tgz\n"
     ]
    },
    {
     "name": "stderr",
     "output_type": "stream",
     "text": [
      "100%|██████████| 243346528/243346528 [03:48<00:00, 1062787.27it/s]\n"
     ]
    },
    {
     "name": "stdout",
     "output_type": "stream",
     "text": [
      "Extracting ./lfwpairs\\lfw-py\\lfw-funneled.tgz to ./lfwpairs\\lfw-py\n",
      "Downloading http://vis-www.cs.umass.edu/lfw/pairs.txt to ./lfwpairs\\lfw-py\\pairs.txt\n"
     ]
    },
    {
     "name": "stderr",
     "output_type": "stream",
     "text": [
      "100%|██████████| 155335/155335 [00:01<00:00, 134545.45it/s]\n"
     ]
    }
   ],
   "source": [
    "\n",
    "import torchvision\n",
    "\n",
    "imagenet_data = torchvision.datasets.LFWPairs(root='./lfwpairs', image_set='funneled', download=True)\n"
   ]
  },
  {
   "cell_type": "code",
   "execution_count": null,
   "id": "9c8b395a",
   "metadata": {},
   "outputs": [],
   "source": [
    "!python ./train_facenet.py"
   ]
  }
 ],
 "metadata": {
  "kernelspec": {
   "display_name": "Python 3.9.13",
   "language": "python",
   "name": "python3"
  },
  "language_info": {
   "codemirror_mode": {
    "name": "ipython",
    "version": 3
   },
   "file_extension": ".py",
   "mimetype": "text/x-python",
   "name": "python",
   "nbconvert_exporter": "python",
   "pygments_lexer": "ipython3",
   "version": "3.9.13"
  },
  "vscode": {
   "interpreter": {
    "hash": "314e7e66cd9031e92379a9c9cc9c8adb3868eb4c27d3241780da09f7121c942a"
   }
  }
 },
 "nbformat": 4,
 "nbformat_minor": 5
}
