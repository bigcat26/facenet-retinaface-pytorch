{
 "cells": [
  {
   "cell_type": "markdown",
   "id": "251c9f1a",
   "metadata": {},
   "source": [
    "## 训练步骤\n",
    "\n",
    "本文使用如下格式进行训练。\n",
    "\n",
    "```text\n",
    "|-datasets\n",
    "    |-people0\n",
    "        |-123.jpg\n",
    "        |-234.jpg\n",
    "    |-people1\n",
    "        |-345.jpg\n",
    "        |-456.jpg\n",
    "    |-...\n",
    "```\n",
    "\n",
    "1. 下载好数据集，将训练用的CASIA-WebFaces数据集以及评估用的LFW数据集，解压后放在根目录。\n",
    "2. 在训练前利用txt_annotation.py文件生成对应的cls_train.txt。\n",
    "3. 利用train.py训练facenet模型，训练前，根据自己的需要选择backbone，model_path和backbone一定要对应。\n",
    "4. 运行train.py即可开始训练。"
   ]
  },
  {
   "cell_type": "code",
   "execution_count": null,
   "id": "98346063",
   "metadata": {},
   "outputs": [],
   "source": [
    "!python ./txt_annotation.py"
   ]
  },
  {
   "cell_type": "code",
   "execution_count": null,
   "id": "9c8b395a",
   "metadata": {},
   "outputs": [],
   "source": [
    "!python ./train_facenet.py"
   ]
  }
 ],
 "metadata": {
  "kernelspec": {
   "display_name": "Python 3 (ipykernel)",
   "language": "python",
   "name": "python3"
  },
  "language_info": {
   "codemirror_mode": {
    "name": "ipython",
    "version": 3
   },
   "file_extension": ".py",
   "mimetype": "text/x-python",
   "name": "python",
   "nbconvert_exporter": "python",
   "pygments_lexer": "ipython3",
   "version": "3.9.7"
  }
 },
 "nbformat": 4,
 "nbformat_minor": 5
}
